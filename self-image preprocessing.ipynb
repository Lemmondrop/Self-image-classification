{
 "cells": [
  {
   "cell_type": "code",
   "execution_count": null,
   "id": "e31a68ca",
   "metadata": {},
   "outputs": [],
   "source": [
    "pine_dir = \"./file address/\"\n",
    "categories = [\"The species you want to categorize\"]\n",
    "nb_classes = len(categories)\n",
    "\n",
    "image_w = 64 ## Enter the desired image size\n",
    "image_h = 64\n",
    "pixels = image_w * image_h * 3\n",
    "\n",
    "x = []\n",
    "y = [] # For labeling \n",
    "\n",
    "import glob # Read a file into a glob\n",
    "import numpy as np\n",
    "from PIL import Image # Image fetching libraries\n",
    "\n",
    "for idx, cat in enumerate(categories):\n",
    "    #print(idx)\n",
    "    #print(cat)\n",
    "    label = [0 for i in range(nb_classes)]\n",
    "    #print(label)\n",
    "    label[idx] = 1\n",
    "    #print(label)\n",
    "    image_dir = pine_dir + \"\" + cat\n",
    "    print(image_dir)\n",
    "    files = glob.glob(image_dir + \"/*.jpg\") # 해Read data from those files.\n",
    "    #print(files)\n",
    "    for i, f in enumerate(files):\n",
    "        #print(i)\n",
    "        #print(f)\n",
    "        img = Image.open(f)\n",
    "        img = img.convert(\"RGB\")\n",
    "        img = img.resize((image_w, image_h))\n",
    "        data = np.asarray(img)\n",
    "        #print(data)\n",
    "        x.append(data)\n",
    "        y.append(label)\n",
    "        #if i% 100 == 0:\n",
    "        #    print(i,\"\\n\", data)\n",
    "\n",
    "import warnings\n",
    "warnings.filterwarnings(\"ignore\", category=np.VisibleDeprecationWarning) ## ignore warning\n",
    "\n",
    "x = np.array(x)\n",
    "y = np.array(y)"
   ]
  },
  {
   "cell_type": "code",
   "execution_count": null,
   "id": "62a9d667",
   "metadata": {},
   "outputs": [],
   "source": [
    "from sklearn.model_selection import train_test_split\n",
    "\n",
    "x_train, x_test, y_train, y_test = train_test_split(x, y)\n",
    "xy = (x_train, x_test, y_train, y_test)\n",
    "np.save(\"./save file name\", xy)\n",
    "\n",
    "print(\"ok....\", len(y))"
   ]
  }
 ],
 "metadata": {
  "kernelspec": {
   "display_name": "Python 3 (ipykernel)",
   "language": "python",
   "name": "python3"
  },
  "language_info": {
   "codemirror_mode": {
    "name": "ipython",
    "version": 3
   },
   "file_extension": ".py",
   "mimetype": "text/x-python",
   "name": "python",
   "nbconvert_exporter": "python",
   "pygments_lexer": "ipython3",
   "version": "3.9.13"
  },
  "toc": {
   "base_numbering": 1,
   "nav_menu": {},
   "number_sections": true,
   "sideBar": true,
   "skip_h1_title": false,
   "title_cell": "Table of Contents",
   "title_sidebar": "Contents",
   "toc_cell": false,
   "toc_position": {},
   "toc_section_display": true,
   "toc_window_display": false
  }
 },
 "nbformat": 4,
 "nbformat_minor": 5
}
