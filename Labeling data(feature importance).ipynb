{
 "cells": [
  {
   "cell_type": "markdown",
   "id": "02e3300e",
   "metadata": {},
   "source": [
    "# Pine species taxonomy codes using labeling techniques"
   ]
  },
  {
   "cell_type": "markdown",
   "id": "0425522c",
   "metadata": {},
   "source": [
    "## Linear Regression"
   ]
  },
  {
   "cell_type": "code",
   "execution_count": null,
   "id": "982edd30",
   "metadata": {},
   "outputs": [],
   "source": [
    "import sklearn\n",
    "import numpy as np\n",
    "import pandas as pd\n",
    "import matplotlib.pyplot as plt\n",
    "\n",
    "from sklearn.linear_model import LinearRegression\n",
    "from sklearn.model_selection import train_test_split"
   ]
  },
  {
   "cell_type": "code",
   "execution_count": null,
   "id": "0b433be6",
   "metadata": {},
   "outputs": [],
   "source": [
    "df = pd.read_csv('./labeling csv file path')"
   ]
  },
  {
   "cell_type": "code",
   "execution_count": null,
   "id": "3295ebce",
   "metadata": {},
   "outputs": [],
   "source": [
    "df.corr()"
   ]
  },
  {
   "cell_type": "code",
   "execution_count": null,
   "id": "c5017c7c",
   "metadata": {
    "scrolled": false
   },
   "outputs": [],
   "source": [
    "df.columns"
   ]
  },
  {
   "cell_type": "code",
   "execution_count": null,
   "id": "e222d822",
   "metadata": {},
   "outputs": [],
   "source": [
    "X = df['Name of a specific column']\n",
    "y = df['Name of a specific column']"
   ]
  },
  {
   "cell_type": "code",
   "execution_count": null,
   "id": "d9067253",
   "metadata": {
    "scrolled": true
   },
   "outputs": [],
   "source": [
    "print(len(X))\n",
    "print(len(y))"
   ]
  },
  {
   "cell_type": "code",
   "execution_count": null,
   "id": "5dface44",
   "metadata": {},
   "outputs": [],
   "source": [
    "plt.plot(X, y , 'o')\n",
    "plt.show()"
   ]
  },
  {
   "cell_type": "code",
   "execution_count": null,
   "id": "24191ce4",
   "metadata": {},
   "outputs": [],
   "source": [
    "line_fitter = LinearRegression()\n",
    "line_fitter.fit(X.values.reshape(-1, 1), y)"
   ]
  },
  {
   "cell_type": "code",
   "execution_count": null,
   "id": "777ff70f",
   "metadata": {},
   "outputs": [],
   "source": [
    "line_fitter.predict([[10]])"
   ]
  },
  {
   "cell_type": "code",
   "execution_count": null,
   "id": "d778671b",
   "metadata": {},
   "outputs": [],
   "source": [
    "line_fitter.coef_"
   ]
  },
  {
   "cell_type": "code",
   "execution_count": null,
   "id": "4ed6bb59",
   "metadata": {},
   "outputs": [],
   "source": [
    "# 기존 X 값으로 y를 예측, 도식화\n",
    "plt.plot(X, y, 'o')\n",
    "plt.plot(X, line_fitter.predict(X.values.reshape(-1,1)))\n",
    "plt.show()"
   ]
  },
  {
   "cell_type": "code",
   "execution_count": null,
   "id": "6e498290",
   "metadata": {
    "scrolled": true
   },
   "outputs": [],
   "source": [
    "line_fitter"
   ]
  },
  {
   "cell_type": "markdown",
   "id": "64670b3c",
   "metadata": {},
   "source": [
    "## Logistic Regression"
   ]
  },
  {
   "cell_type": "code",
   "execution_count": null,
   "id": "740e5d7f",
   "metadata": {},
   "outputs": [],
   "source": [
    "df = pd.read_csv('./labeling csv file path')\n",
    "print(df.shape)\n",
    "print(df.head(5))"
   ]
  },
  {
   "cell_type": "code",
   "execution_count": null,
   "id": "24a4c460",
   "metadata": {},
   "outputs": [],
   "source": [
    "df['name'].unique()"
   ]
  },
  {
   "cell_type": "code",
   "execution_count": null,
   "id": "a4e79795",
   "metadata": {},
   "outputs": [],
   "source": [
    "df['name'] = df['name'].map({'Categories 1':1, 'Categories 2':2, 'Categories 3':3,\n",
    "       'Categories 4':4})"
   ]
  },
  {
   "cell_type": "code",
   "execution_count": null,
   "id": "c28ea999",
   "metadata": {},
   "outputs": [],
   "source": [
    "df.columns"
   ]
  },
  {
   "cell_type": "code",
   "execution_count": null,
   "id": "ab59bee9",
   "metadata": {},
   "outputs": [],
   "source": [
    "features = df[['file coulumns']]\n",
    "name = df['name']"
   ]
  },
  {
   "cell_type": "code",
   "execution_count": null,
   "id": "d7908e48",
   "metadata": {},
   "outputs": [],
   "source": [
    "train_features, test_features, train_labels, test_labels = train_test_split(features, name)"
   ]
  },
  {
   "cell_type": "code",
   "execution_count": null,
   "id": "3e3bc7a7",
   "metadata": {},
   "outputs": [],
   "source": [
    "from sklearn.preprocessing import StandardScaler\n",
    "\n",
    "scaler = StandardScaler()\n",
    "train_fetures = scaler.fit_transform(train_features)\n",
    "test_features = scaler.transform(test_features)"
   ]
  },
  {
   "cell_type": "code",
   "execution_count": null,
   "id": "a8f89a41",
   "metadata": {},
   "outputs": [],
   "source": [
    "from sklearn.linear_model import LogisticRegression\n",
    "\n",
    "log_model = LogisticRegression()\n",
    "log_model.fit(train_features, train_labels)"
   ]
  },
  {
   "cell_type": "code",
   "execution_count": null,
   "id": "1d87f2e1",
   "metadata": {},
   "outputs": [],
   "source": [
    "print(log_model.score(train_features, train_labels))"
   ]
  },
  {
   "cell_type": "code",
   "execution_count": null,
   "id": "f1e4b480",
   "metadata": {
    "scrolled": false
   },
   "outputs": [],
   "source": [
    "print(log_model.score(test_features, test_labels))"
   ]
  },
  {
   "cell_type": "code",
   "execution_count": null,
   "id": "441cd35b",
   "metadata": {},
   "outputs": [],
   "source": [
    "log_model.coef_[0]"
   ]
  },
  {
   "cell_type": "code",
   "execution_count": null,
   "id": "e3b74db4",
   "metadata": {},
   "outputs": [],
   "source": [
    "cols = pd.DataFrame(x_train).columns.tolist()\n",
    "y_pos = np.arange(len(cols))\n",
    "\n",
    "plt.rcParams['figure.figsize'] = [5, 4]\n",
    "fig, ax = plt.subplots()\n",
    "ax.barh(y_pos, log_model.coef_[0], align='center', ecolor='black')\n",
    "plt.rc('font', family='Malgun Gothic')\n",
    "ax.set_yticks(y_pos)\n",
    "ax.set_yticklabels(cols)\n",
    "ax.invert_yaxis()\n",
    "ax.set_xlabel('Coef')\n",
    "ax.set_title(\"Each Feature's Importance\")\n",
    "\n",
    "plt.show()"
   ]
  }
 ],
 "metadata": {
  "kernelspec": {
   "display_name": "Python 3 (ipykernel)",
   "language": "python",
   "name": "python3"
  },
  "language_info": {
   "codemirror_mode": {
    "name": "ipython",
    "version": 3
   },
   "file_extension": ".py",
   "mimetype": "text/x-python",
   "name": "python",
   "nbconvert_exporter": "python",
   "pygments_lexer": "ipython3",
   "version": "3.9.13"
  },
  "toc": {
   "base_numbering": 1,
   "nav_menu": {},
   "number_sections": true,
   "sideBar": true,
   "skip_h1_title": false,
   "title_cell": "Table of Contents",
   "title_sidebar": "Contents",
   "toc_cell": false,
   "toc_position": {},
   "toc_section_display": true,
   "toc_window_display": false
  }
 },
 "nbformat": 4,
 "nbformat_minor": 5
}
